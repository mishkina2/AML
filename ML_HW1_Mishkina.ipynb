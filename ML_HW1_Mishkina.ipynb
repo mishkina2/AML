{
 "cells": [
  {
   "cell_type": "code",
   "execution_count": 1,
   "metadata": {
    "id": "SgBGQp9VhCKK"
   },
   "outputs": [],
   "source": [
    "%matplotlib inline\n",
    "\n",
    "import matplotlib.pyplot as plt\n",
    "import numpy as np\n",
    "import scipy.optimize as opt\n",
    "import sklearn.linear_model\n",
    "import sklearn.model_selection\n",
    "import pandas as pd\n",
    "from sklearn.feature_extraction.text import HashingVectorizer\n",
    "from sklearn.datasets import fetch_20newsgroups\n",
    "from sklearn.metrics import f1_score, make_scorer"
   ]
  },
  {
   "cell_type": "code",
   "execution_count": 2,
   "metadata": {
    "id": "5YVN1e5Y5qNe"
   },
   "outputs": [],
   "source": [
    "from sklearn.linear_model import RidgeClassifier\n",
    "from sklearn.svm import LinearSVC\n",
    "from sklearn.linear_model import SGDClassifier\n",
    "from sklearn.linear_model import Perceptron\n",
    "from sklearn.linear_model import PassiveAggressiveClassifier\n",
    "from sklearn.naive_bayes import BernoulliNB, MultinomialNB\n",
    "from sklearn.neighbors import KNeighborsClassifier\n",
    "from sklearn.neighbors import NearestCentroid\n",
    "from sklearn.ensemble import RandomForestClassifier\n",
    "from sklearn.model_selection import GridSearchCV"
   ]
  },
  {
   "cell_type": "markdown",
   "metadata": {
    "id": "E8P9ZDR5Macb"
   },
   "source": [
    "Loading dataset. The dataset contains some trash information such as headers, footers and quotes, that can bring classifiers to overfitting on metadata. Thus we remove them."
   ]
  },
  {
   "cell_type": "code",
   "execution_count": 3,
   "metadata": {
    "id": "robwfgPmhwfY"
   },
   "outputs": [],
   "source": [
    "remove=('headers', 'footers', 'quotes')\n",
    "\n",
    "data_train = fetch_20newsgroups(subset='train', shuffle=True, random_state=42,\n",
    "                                remove=remove)\n",
    "\n",
    "data_test = fetch_20newsgroups(subset='test', shuffle=True, random_state=42,\n",
    "                               remove=remove)"
   ]
  },
  {
   "cell_type": "code",
   "execution_count": 4,
   "metadata": {
    "id": "CJ8BT-4Cl8DN"
   },
   "outputs": [],
   "source": [
    "target_names = data_train.target_names\n",
    "y_train, y_test = data_train.target, data_test.target"
   ]
  },
  {
   "cell_type": "markdown",
   "metadata": {
    "id": "U_QMEerzQzsn"
   },
   "source": [
    "Usign HashingVectorizer as it was suggested."
   ]
  },
  {
   "cell_type": "code",
   "execution_count": 5,
   "metadata": {
    "colab": {
     "base_uri": "https://localhost:8080/"
    },
    "id": "FUImCJ1Rpk-6",
    "outputId": "11374412-52e5-45a9-a0a2-c91a2f1249de"
   },
   "outputs": [
    {
     "data": {
      "text/plain": [
       "(11314, 1048576)"
      ]
     },
     "execution_count": 5,
     "metadata": {},
     "output_type": "execute_result"
    }
   ],
   "source": [
    "vectorizer = HashingVectorizer(stop_words='english', alternate_sign=False) #Using english stop words to clean data\n",
    "X_train = vectorizer.transform(data_train.data)\n",
    "X_train.shape"
   ]
  },
  {
   "cell_type": "code",
   "execution_count": 6,
   "metadata": {
    "colab": {
     "base_uri": "https://localhost:8080/"
    },
    "id": "6redB1Kwr6YH",
    "outputId": "aec0bf33-35fc-48e7-96cd-cf4326729a8b"
   },
   "outputs": [
    {
     "data": {
      "text/plain": [
       "(7532, 1048576)"
      ]
     },
     "execution_count": 6,
     "metadata": {},
     "output_type": "execute_result"
    }
   ],
   "source": [
    "X_test = vectorizer.transform(data_test.data)\n",
    "X_test.shape"
   ]
  },
  {
   "cell_type": "markdown",
   "metadata": {
    "id": "A5dKp9cyRGo8"
   },
   "source": [
    "Defining functions to test different models with default params.\n",
    "\n"
   ]
  },
  {
   "cell_type": "code",
   "execution_count": 7,
   "metadata": {
    "id": "XRyOhV5S6MAR"
   },
   "outputs": [],
   "source": [
    "def benchmark(clf):\n",
    "    print('_' * 80)\n",
    "    print(\"Training: \")\n",
    "    print(clf)\n",
    "    clf.fit(X_train, y_train)\n",
    "    pred = clf.predict(X_test)\n",
    "    score = f1_score(y_test, pred, average='weighted')\n",
    "    print(\"accuracy:   %0.3f\" % score)\n",
    "    clf_descr = str(clf).split('(')[0]\n",
    "    return clf_descr, score"
   ]
  },
  {
   "cell_type": "code",
   "execution_count": 8,
   "metadata": {
    "id": "3BuDTGMCyigj"
   },
   "outputs": [],
   "source": [
    "def try_models():\n",
    "  results = []\n",
    "  for clf, name in (\n",
    "          (RidgeClassifier(tol=1e-2, solver=\"auto\"), \"Ridge Classifier\"), #Trying some default classification models with default params\n",
    "          (Perceptron(tol=1e-2), \"Perceptron\"),\n",
    "          (PassiveAggressiveClassifier(), \"Passive-Aggressive\"),\n",
    "          (KNeighborsClassifier(n_neighbors=10), \"kNN\"),\n",
    "          (RandomForestClassifier(n_estimators=20), \"Random forest\")):\n",
    "      print('=' * 80)\n",
    "      print(name)\n",
    "      results.append(benchmark(clf))\n",
    "\n",
    "  for penalty in [\"l2\", \"l1\"]:\n",
    "      print('=' * 80)\n",
    "      print(\"%s penalty\" % penalty.upper())\n",
    "      # Train Liblinear model\n",
    "      results.append(benchmark(LinearSVC(penalty=penalty, dual=False,\n",
    "                                        tol=1e-3))) #Trying penalty to regularize models\n",
    "\n",
    "      # Train SGD model\n",
    "      results.append(benchmark(SGDClassifier(alpha=.0001,\n",
    "                                            penalty=penalty)))\n",
    "\n",
    "  # Train SGD with Elastic Net penalty\n",
    "  print('=' * 80)\n",
    "  print(\"Elastic-Net penalty\")\n",
    "  results.append(benchmark(SGDClassifier(alpha=.0001,\n",
    "                                        penalty=\"elasticnet\")))\n",
    "\n",
    "  # Train NearestCentroid without threshold\n",
    "  print('=' * 80)\n",
    "  print(\"NearestCentroid (aka Rocchio classifier)\")\n",
    "  results.append(benchmark(NearestCentroid()))\n",
    "\n",
    "  # Train sparse Naive Bayes classifiers\n",
    "  print('=' * 80)\n",
    "  print(\"Naive Bayes\")\n",
    "  results.append(benchmark(MultinomialNB(alpha=.01)))\n",
    "  results.append(benchmark(BernoulliNB(alpha=.01)))\n",
    "\n",
    "  # make some plots\n",
    "\n",
    "  indices = np.arange(len(results))\n",
    "\n",
    "  results = [[x[i] for x in results] for i in range(2)]\n",
    "\n",
    "  clf_names, score = results\n",
    "\n",
    "  plt.figure(figsize=(12, 8))\n",
    "  plt.title(\"Score\")\n",
    "  plt.barh(indices, score, .2, label=\"score\", color='navy')\n",
    "  plt.yticks(())\n",
    "  plt.legend(loc='best')\n",
    "  plt.subplots_adjust(left=.25)\n",
    "  plt.subplots_adjust(top=.95)\n",
    "  plt.subplots_adjust(bottom=.05)\n",
    "\n",
    "  for i, c in zip(indices, clf_names):\n",
    "      plt.text(-.3, i, c)\n",
    "\n",
    "  plt.show()"
   ]
  },
  {
   "cell_type": "markdown",
   "metadata": {
    "id": "hTY41z6_V0KT"
   },
   "source": [
    "With this kind of problem the best metric to measure our models would be F1 score. The F1-score combines the precision and recall of a classifier into a single metric by taking their harmonic mean. It is primarily used to compare the performance of two classifiers. Suppose that classifier A has a higher recall, and classifier B has higher precision. In this case, the F1-scores for both the classifiers can be used to determine which one produces better results."
   ]
  },
  {
   "cell_type": "code",
   "execution_count": 9,
   "metadata": {
    "colab": {
     "base_uri": "https://localhost:8080/",
     "height": 1000
    },
    "id": "2Q2aYfdezHeg",
    "outputId": "5ae2cb51-5184-4ed0-ed5c-173f25ff1d90"
   },
   "outputs": [
    {
     "name": "stdout",
     "output_type": "stream",
     "text": [
      "================================================================================\n",
      "Ridge Classifier\n",
      "________________________________________________________________________________\n",
      "Training: \n",
      "RidgeClassifier(tol=0.01)\n",
      "accuracy:   0.682\n",
      "================================================================================\n",
      "Perceptron\n",
      "________________________________________________________________________________\n",
      "Training: \n",
      "Perceptron(tol=0.01)\n",
      "accuracy:   0.609\n",
      "================================================================================\n",
      "Passive-Aggressive\n",
      "________________________________________________________________________________\n",
      "Training: \n",
      "PassiveAggressiveClassifier()\n",
      "accuracy:   0.642\n",
      "================================================================================\n",
      "kNN\n",
      "________________________________________________________________________________\n",
      "Training: \n",
      "KNeighborsClassifier(n_neighbors=10)\n",
      "accuracy:   0.068\n",
      "================================================================================\n",
      "Random forest\n",
      "________________________________________________________________________________\n",
      "Training: \n",
      "RandomForestClassifier(n_estimators=20)\n",
      "accuracy:   0.541\n",
      "================================================================================\n",
      "L2 penalty\n",
      "________________________________________________________________________________\n",
      "Training: \n",
      "LinearSVC(dual=False, tol=0.001)\n",
      "accuracy:   0.667\n",
      "________________________________________________________________________________\n",
      "Training: \n",
      "SGDClassifier()\n",
      "accuracy:   0.668\n",
      "================================================================================\n",
      "L1 penalty\n",
      "________________________________________________________________________________\n",
      "Training: \n",
      "LinearSVC(dual=False, penalty='l1', tol=0.001)\n",
      "accuracy:   0.654\n",
      "________________________________________________________________________________\n",
      "Training: \n",
      "SGDClassifier(penalty='l1')\n",
      "accuracy:   0.625\n",
      "================================================================================\n",
      "Elastic-Net penalty\n",
      "________________________________________________________________________________\n",
      "Training: \n",
      "SGDClassifier(penalty='elasticnet')\n",
      "accuracy:   0.659\n",
      "================================================================================\n",
      "NearestCentroid (aka Rocchio classifier)\n",
      "________________________________________________________________________________\n",
      "Training: \n",
      "NearestCentroid()\n",
      "accuracy:   0.579\n",
      "================================================================================\n",
      "Naive Bayes\n",
      "________________________________________________________________________________\n",
      "Training: \n",
      "MultinomialNB(alpha=0.01)\n",
      "accuracy:   0.667\n",
      "________________________________________________________________________________\n",
      "Training: \n",
      "BernoulliNB(alpha=0.01)\n",
      "accuracy:   0.565\n"
     ]
    },
    {
     "data": {
      "image/png": "[encoded data removed]",
      "text/plain": [
       "<Figure size 864x576 with 1 Axes>"
      ]
     },
     "metadata": {
      "needs_background": "light"
     },
     "output_type": "display_data"
    }
   ],
   "source": [
    "try_models()#With HashVectorizer"
   ]
  },
  {
   "cell_type": "code",
   "execution_count": 10,
   "metadata": {
    "colab": {
     "base_uri": "https://localhost:8080/"
    },
    "id": "Rabb8FYu7Juv",
    "outputId": "acb737ab-32b3-41ec-a54d-8880652304a5"
   },
   "outputs": [
    {
     "data": {
      "text/plain": [
       "(7532, 101322)"
      ]
     },
     "execution_count": 10,
     "metadata": {},
     "output_type": "execute_result"
    }
   ],
   "source": [
    "from sklearn.feature_extraction.text import TfidfVectorizer # Trying different vectorizer that accounts originality of words\n",
    "vectorizer = TfidfVectorizer(sublinear_tf=True, stop_words='english')\n",
    "X_train = vectorizer.fit_transform(data_train.data)\n",
    "X_test = vectorizer.transform(data_test.data)\n",
    "X_test.shape"
   ]
  },
  {
   "cell_type": "code",
   "execution_count": 11,
   "metadata": {
    "colab": {
     "base_uri": "https://localhost:8080/",
     "height": 1000
    },
    "id": "1m1mimZRCYoz",
    "outputId": "ef9cf8c6-4cfb-4f81-8683-922a80af18c0"
   },
   "outputs": [
    {
     "name": "stdout",
     "output_type": "stream",
     "text": [
      "================================================================================\n",
      "Ridge Classifier\n",
      "________________________________________________________________________________\n",
      "Training: \n",
      "RidgeClassifier(tol=0.01)\n",
      "accuracy:   0.701\n",
      "================================================================================\n",
      "Perceptron\n",
      "________________________________________________________________________________\n",
      "Training: \n",
      "Perceptron(tol=0.01)\n",
      "accuracy:   0.630\n",
      "================================================================================\n",
      "Passive-Aggressive\n",
      "________________________________________________________________________________\n",
      "Training: \n",
      "PassiveAggressiveClassifier()\n",
      "accuracy:   0.685\n",
      "================================================================================\n",
      "kNN\n",
      "________________________________________________________________________________\n",
      "Training: \n",
      "KNeighborsClassifier(n_neighbors=10)\n",
      "accuracy:   0.058\n",
      "================================================================================\n",
      "Random forest\n",
      "________________________________________________________________________________\n",
      "Training: \n",
      "RandomForestClassifier(n_estimators=20)\n",
      "accuracy:   0.569\n",
      "================================================================================\n",
      "L2 penalty\n",
      "________________________________________________________________________________\n",
      "Training: \n",
      "LinearSVC(dual=False, tol=0.001)\n",
      "accuracy:   0.695\n",
      "________________________________________________________________________________\n",
      "Training: \n",
      "SGDClassifier()\n",
      "accuracy:   0.699\n",
      "================================================================================\n",
      "L1 penalty\n",
      "________________________________________________________________________________\n",
      "Training: \n",
      "LinearSVC(dual=False, penalty='l1', tol=0.001)\n",
      "accuracy:   0.667\n",
      "________________________________________________________________________________\n",
      "Training: \n",
      "SGDClassifier(penalty='l1')\n",
      "accuracy:   0.633\n",
      "================================================================================\n",
      "Elastic-Net penalty\n",
      "________________________________________________________________________________\n",
      "Training: \n",
      "SGDClassifier(penalty='elasticnet')\n",
      "accuracy:   0.687\n",
      "================================================================================\n",
      "NearestCentroid (aka Rocchio classifier)\n",
      "________________________________________________________________________________\n",
      "Training: \n",
      "NearestCentroid()\n",
      "accuracy:   0.660\n",
      "================================================================================\n",
      "Naive Bayes\n",
      "________________________________________________________________________________\n",
      "Training: \n",
      "MultinomialNB(alpha=0.01)\n",
      "accuracy:   0.691\n",
      "________________________________________________________________________________\n",
      "Training: \n",
      "BernoulliNB(alpha=0.01)\n",
      "accuracy:   0.565\n"
     ]
    },
    {
     "data": {
      "image/png": "[encoded data removed]",
      "text/plain": [
       "<Figure size 864x576 with 1 Axes>"
      ]
     },
     "metadata": {
      "needs_background": "light"
     },
     "output_type": "display_data"
    }
   ],
   "source": [
    "try_models() #Triyng with TfidVectorizer"
   ]
  },
  {
   "cell_type": "markdown",
   "metadata": {
    "id": "e7EA1VI6VBCq"
   },
   "source": [
    "We can see that the RidgeClassifier gives the best f1 score on TfidVectorizer. Thus we can use gridsearch to find best hyperparams"
   ]
  },
  {
   "cell_type": "code",
   "execution_count": 12,
   "metadata": {
    "id": "0dW5aln-C58w"
   },
   "outputs": [],
   "source": [
    "tol = [0.5, 0.3, 0.1, 1e-2, 1e-3]\n",
    "alpha = [3, 1, 0.5, 1e-2, 1e-3]\n",
    "param_grid = dict(tol = tol, alpha = alpha)\n",
    "grid = GridSearchCV(RidgeClassifier(), param_grid, cv=10, scoring='f1_weighted')"
   ]
  },
  {
   "cell_type": "code",
   "execution_count": null,
   "metadata": {
    "id": "FdveWWn6Ofx7"
   },
   "outputs": [],
   "source": [
    "grid.fit(X_train, y_train)"
   ]
  },
  {
   "cell_type": "code",
   "execution_count": null,
   "metadata": {
    "id": "nvBgWL3qaBtU"
   },
   "outputs": [],
   "source": [
    "print(grid.best_score_)\n",
    "print(grid.best_params_)\n",
    "print(grid.best_estimator_)"
   ]
  },
  {
   "cell_type": "code",
   "execution_count": null,
   "metadata": {
    "id": "8G7gNIxzaFAF"
   },
   "outputs": [],
   "source": [
    "clf = RidgeClassifier(alpha=1, tol=0.01)\n",
    "clf.fit(X_train, y_train)\n",
    "pred = clf.predict(X_test)\n",
    "score = f1_score(y_test, pred, average='weighted')\n",
    "print(\"accuracy:   %0.3f\" % score)"
   ]
  },
  {
   "cell_type": "code",
   "execution_count": null,
   "metadata": {
    "id": "x7fZqHXGwb0_"
   },
   "outputs": [],
   "source": []
  },
  {
   "cell_type": "code",
   "execution_count": null,
   "metadata": {},
   "outputs": [],
   "source": []
  },
  {
   "cell_type": "code",
   "execution_count": null,
   "metadata": {},
   "outputs": [],
   "source": []
  }
 ],
 "metadata": {
  "colab": {
   "name": "ML_HW1_Mishkina.ipynb",
   "provenance": []
  },
  "kernelspec": {
   "display_name": "Python 3",
   "language": "python",
   "name": "python3"
  },
  "language_info": {
   "codemirror_mode": {
    "name": "ipython",
    "version": 3
   },
   "file_extension": ".py",
   "mimetype": "text/x-python",
   "name": "python",
   "nbconvert_exporter": "python",
   "pygments_lexer": "ipython3",
   "version": "3.8.8"
  }
 },
 "nbformat": 4,
 "nbformat_minor": 1
}
